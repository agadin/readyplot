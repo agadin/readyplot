{
 "cells": [
  {
   "cell_type": "markdown",
   "id": "4b537473-7762-4058-99b1-6bb4ff96e955",
   "metadata": {},
   "source": [
    "# TEST PLOTTER"
   ]
  },
  {
   "cell_type": "markdown",
   "id": "d350625f-9c3d-4a38-b3d7-dd09e8078e54",
   "metadata": {},
   "source": [
    "Created 12/06/24"
   ]
  },
  {
   "cell_type": "markdown",
   "id": "78583d80-a0b4-4911-8b86-6fe84599a957",
   "metadata": {},
   "source": [
    "## BACKGROUND"
   ]
  },
  {
   "cell_type": "markdown",
   "id": "e94883ed-cad3-4d5a-9fcf-75eaf2bd4d8b",
   "metadata": {},
   "source": [
    "This notebook explores a first round of mechanical and QPLI data from surgeries up to this point, in order to better inform future experimental sample sizes and to justify asking our collaborators from the Weiss group in Australia for more tropoelastin. The results may suggest that elastin injection is no better than PBS injection, which we need to verify by adding a PBS injection WT group (only PRX1 currently), and if that proves to be true future studies could use different concentrations of elastin or choose different injection time points."
   ]
  },
  {
   "cell_type": "markdown",
   "id": "581ebf78-273e-4418-aa3e-bca9b1a11c52",
   "metadata": {},
   "source": [
    "# IMPORTS"
   ]
  },
  {
   "cell_type": "code",
   "execution_count": 1,
   "id": "2132f8e8-69c7-45e9-a998-21057f919241",
   "metadata": {},
   "outputs": [
    {
     "ename": "ModuleNotFoundError",
     "evalue": "No module named 'custom_plotter'",
     "output_type": "error",
     "traceback": [
      "\u001b[0;31m---------------------------------------------------------------------------\u001b[0m",
      "\u001b[0;31mModuleNotFoundError\u001b[0m                       Traceback (most recent call last)",
      "Cell \u001b[0;32mIn[1], line 7\u001b[0m\n\u001b[1;32m      5\u001b[0m \u001b[38;5;28;01mimport\u001b[39;00m \u001b[38;5;21;01mcsv\u001b[39;00m\n\u001b[1;32m      6\u001b[0m \u001b[38;5;28;01mimport\u001b[39;00m \u001b[38;5;21;01mos\u001b[39;00m\n\u001b[0;32m----> 7\u001b[0m \u001b[38;5;28;01mfrom\u001b[39;00m \u001b[38;5;21;01mcustom_plotter\u001b[39;00m \u001b[38;5;28;01mimport\u001b[39;00m custom_plotter\n",
      "\u001b[0;31mModuleNotFoundError\u001b[0m: No module named 'custom_plotter'"
     ]
    }
   ],
   "source": [
    "import numpy as np\n",
    "import matplotlib.pyplot as plt\n",
    "import seaborn as sns\n",
    "import pandas as pd\n",
    "import csv\n",
    "import os"
   ]
  },
  {
   "cell_type": "code",
   "execution_count": null,
   "id": "35e81d7f-2172-4d0f-94b1-5c5ed43041d5",
   "metadata": {
    "jupyter": {
     "source_hidden": true
    }
   },
   "outputs": [],
   "source": [
    "# Get current directory\n",
    "cd = os.getcwd()\n",
    "print(cd)\n",
    "FileName = os.sep + \"SROUND1_DATA.xlsx\"\n",
    "print(FileName)\n",
    "FilePath = cd + FileName\n",
    "print(FilePath)"
   ]
  },
  {
   "cell_type": "markdown",
   "id": "ebf52599-e89b-44b3-9acb-ad2591751666",
   "metadata": {},
   "source": [
    "MECH IMPORT"
   ]
  },
  {
   "cell_type": "code",
   "execution_count": null,
   "id": "638875da-8eb3-4020-b62b-1de03da7724b",
   "metadata": {
    "jupyter": {
     "source_hidden": true
    },
    "scrolled": true
   },
   "outputs": [],
   "source": [
    "# Import mechanics data stored in current folder:\n",
    "MECH_DATA = pd.read_excel(FilePath, sheet_name=\"MechSorted\")\n",
    "MECH_DATA.drop([0],inplace = False)\n",
    "MECH_DATA.replace([np.inf, -np.inf], np.nan, inplace=True)\n",
    "\n",
    "print(MECH_DATA)"
   ]
  },
  {
   "cell_type": "markdown",
   "id": "08ca576e-9297-485a-ba36-d061f2cd36e8",
   "metadata": {},
   "source": [
    "QPLI IMPORT"
   ]
  },
  {
   "cell_type": "code",
   "execution_count": null,
   "id": "4b0a9f59-0501-43a9-a916-b0066810984f",
   "metadata": {
    "jupyter": {
     "source_hidden": true
    },
    "scrolled": true
   },
   "outputs": [],
   "source": [
    "# Import QPLI data stored in current folder:\n",
    "QPLI_DATA = pd.read_excel(FilePath, sheet_name=\"QPLISorted\")\n",
    "QPLI_DATA.drop(columns=['Mouse','Sex','Genotype','Injection','Right Limb?'],inplace = True)\n",
    "\n",
    "print(QPLI_DATA)"
   ]
  },
  {
   "cell_type": "markdown",
   "id": "13abbf2f-6a92-4a0f-b2d4-fd39f608f153",
   "metadata": {},
   "source": [
    "# CLEAN DATA"
   ]
  },
  {
   "cell_type": "markdown",
   "id": "4a6d2379-cde4-4862-8691-8da57c6f1be8",
   "metadata": {},
   "source": [
    "Fill in this section as needed: There was no obvious exclusion criteria here, and low enough sample sizes that I'm still interested in the outliers. Since I created this data set using an established previous mechanical testing method, I have less cleaning to do, and I may simply clean the data after visualization on a variable by variable basis (eg if there were lots of strain issues that were not captured by stress etc...)"
   ]
  },
  {
   "cell_type": "markdown",
   "id": "45204ed2-741f-469f-93d3-c792bd495365",
   "metadata": {},
   "source": [
    "# GROUP DATA\n"
   ]
  },
  {
   "cell_type": "code",
   "execution_count": null,
   "id": "0639ef28-ae1b-414c-9e79-b6f60d47de34",
   "metadata": {
    "jupyter": {
     "source_hidden": true
    }
   },
   "outputs": [],
   "source": [
    "# Import column titles\n",
    "\n",
    "MechColumnTitles = MECH_DATA.columns.tolist()\n",
    "print(MechColumnTitles)\n",
    "\n",
    "QPLIColumnTitles = QPLI_DATA.columns.tolist()\n",
    "print(QPLIColumnTitles)"
   ]
  },
  {
   "cell_type": "code",
   "execution_count": null,
   "id": "6bdfe9a3-41d4-4122-a96c-fe8d97c01394",
   "metadata": {
    "jupyter": {
     "source_hidden": true
    },
    "scrolled": true
   },
   "outputs": [],
   "source": [
    "# Extract feature names\n",
    "\n",
    "MechFeatures = MechColumnTitles[:5]\n",
    "print(MechFeatures)"
   ]
  },
  {
   "cell_type": "code",
   "execution_count": null,
   "id": "1e4d71da-ecc1-4476-91f5-e5a3cf65bb5f",
   "metadata": {
    "jupyter": {
     "source_hidden": true
    },
    "scrolled": true
   },
   "outputs": [],
   "source": [
    "# Extract variable names\n",
    "\n",
    "MechVars = MechColumnTitles[5:]\n",
    "print(MechVars)\n",
    "\n",
    "QPLIVars = QPLIColumnTitles[:]\n",
    "print(QPLIVars)"
   ]
  },
  {
   "cell_type": "code",
   "execution_count": null,
   "id": "cde4a385-47ce-412c-891a-94528a3f976e",
   "metadata": {
    "jupyter": {
     "source_hidden": true
    },
    "scrolled": true
   },
   "outputs": [],
   "source": [
    "# Classify into groups, add new column\n",
    "\n",
    "Group = []\n",
    "\n",
    "for index, row in MECH_DATA.iterrows():\n",
    "    temp =  MECH_DATA.loc[index,'Genotype'] + MECH_DATA.loc[index,'Injection']\n",
    "    if MECH_DATA.loc[index,'Surgery'] == 'NON':\n",
    "        temp = temp + 'U'\n",
    "    Group.append(temp)\n",
    "\n",
    "print(Group)\n",
    "\n",
    "Group_data = {'Group': Group}\n",
    "Group_df = pd.DataFrame(Group_data)\n",
    "\n",
    "DF = pd.concat([Group_df,MECH_DATA,QPLI_DATA],axis=1)\n",
    "print(DF)"
   ]
  },
  {
   "cell_type": "markdown",
   "id": "6d08bb08-84d1-46f8-947b-e0235ba006e1",
   "metadata": {},
   "source": [
    "# VISUALIZE DATA"
   ]
  },
  {
   "cell_type": "code",
   "execution_count": null,
   "id": "48de2dd2-6fcd-4e8c-8f05-aaabddddee28",
   "metadata": {
    "scrolled": true
   },
   "outputs": [],
   "source": [
    "# Set up a units list for future y labels\n",
    "Units = ['mm^2','mm','Pa','Pa','','Pa','','Pa','','Pa','','Pa','','Pa','Pa','N','N','mm','N','mm','N','mm','N','mm','N','','N','N','J']\n",
    "\n",
    "# Style before substance\n",
    "sns.color_palette('deep')\n",
    "DF.name = \"\"\n",
    "\n",
    "folder_name = 'MECH_FIGURES'\n",
    "try:\n",
    "    os.mkdir(folder_name)\n",
    "    print(f\"Directory '{folder_name}' created successfully.\")\n",
    "except FileExistsError:\n",
    "    print(f\"Directory '{folder_name}' already exists.\")\n",
    "\n",
    "import readyplot.base_plotter as custom_plotter\n",
    "\n",
    "# Iterate through mechanical data and plot\n",
    "for Var in MechVars[:3]:\n",
    "    figs1,axs1 = custom_plotter('box_strip',DF,'Group',Var,'Surgery',p=['c','m','g'],\n",
    "                                dodge=True,folder_name = folder_name,low_cap0=True,\n",
    "                                handles_in_legend = 3,fig_width = 10,box_width = 0.9,\n",
    "                                custom_y_label =Var + ' (' + Units[MechVars.index(Var)]+')')  \n"
   ]
  },
  {
   "cell_type": "code",
   "execution_count": null,
   "id": "c218b4a0-0ce2-4f7f-bb48-c22708dacff7",
   "metadata": {},
   "outputs": [],
   "source": []
  }
 ],
 "metadata": {
  "kernelspec": {
   "display_name": "Python 3 (ipykernel)",
   "language": "python",
   "name": "python3"
  },
  "language_info": {
   "codemirror_mode": {
    "name": "ipython",
    "version": 3
   },
   "file_extension": ".py",
   "mimetype": "text/x-python",
   "name": "python",
   "nbconvert_exporter": "python",
   "pygments_lexer": "ipython3",
   "version": "3.12.7"
  }
 },
 "nbformat": 4,
 "nbformat_minor": 5
}
